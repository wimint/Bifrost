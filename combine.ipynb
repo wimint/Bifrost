{
 "cells": [
  {
   "cell_type": "code",
   "execution_count": 1,
   "metadata": {},
   "outputs": [
    {
     "name": "stdout",
     "output_type": "stream",
     "text": [
      "Requirement already satisfied: pandas in ./.venv/lib/python3.12/site-packages (2.2.3)\n",
      "Requirement already satisfied: numpy>=1.26.0 in ./.venv/lib/python3.12/site-packages (from pandas) (2.2.3)\n",
      "Requirement already satisfied: python-dateutil>=2.8.2 in ./.venv/lib/python3.12/site-packages (from pandas) (2.9.0.post0)\n",
      "Requirement already satisfied: pytz>=2020.1 in ./.venv/lib/python3.12/site-packages (from pandas) (2025.1)\n",
      "Requirement already satisfied: tzdata>=2022.7 in ./.venv/lib/python3.12/site-packages (from pandas) (2025.1)\n",
      "Requirement already satisfied: six>=1.5 in ./.venv/lib/python3.12/site-packages (from python-dateutil>=2.8.2->pandas) (1.17.0)\n",
      "Note: you may need to restart the kernel to use updated packages.\n"
     ]
    }
   ],
   "source": [
    "import pandas\n",
    "\n",
    "%pip install pandas"
   ]
  },
  {
   "cell_type": "code",
   "execution_count": 5,
   "metadata": {},
   "outputs": [
    {
     "name": "stdout",
     "output_type": "stream",
     "text": [
      "Conversion complete. The updated file is saved as 'output_ukbb53639_feb_users.csv'.\n",
      "Conversion complete. The updated file is saved as 'output_ukbb53639_with_usernames_feb_users.csv'.\n"
     ]
    }
   ],
   "source": [
    "import datetime\n",
    "import pandas as pd\n",
    "import re\n",
    "\n",
    "# Read the CSV file\n",
    "df = pd.read_csv('/Users/wmt/Library/CloudStorage/OneDrive-NovoNordisk/Code Repository/Bifrost_UKBB/Feb_2025/UKBB53639users__feb_2025.csv')\n",
    "\n",
    "# Function to convert Unix timestamp to human-readable date\n",
    "def convert_timestamp(timestamp_ms):\n",
    "    timestamp_s = timestamp_ms / 1000.0\n",
    "    return datetime.datetime.fromtimestamp(timestamp_s).strftime('%Y-%m-%d %H:%M:%S')\n",
    "\n",
    "# Function to extract numeral values from 'clientUid' field in 'message' column\n",
    "def extract_numerals(message):\n",
    "    match = re.search(r'\"clientUid\":\"(\\d+)\"', message)\n",
    "    return match.group(1) if match else None\n",
    "\n",
    "# Function to extract action values from 'operation' field in 'message' column\n",
    "def extract_operation(message):\n",
    "    match = re.search(r'\"operation\":\"([^\"]+)\"', message)\n",
    "    return match.group(1) if match else None\n",
    "\n",
    "# Apply the function to the first column and create a new column\n",
    "df.insert(1, 'human_readable_timestamp', df.iloc[:, 0].apply(convert_timestamp))\n",
    "\n",
    "# Apply the function to the 'message' column and create a new column for clientUid\n",
    "df['clientUid_numerals'] = df['message'].apply(extract_numerals)\n",
    "\n",
    "# Apply the function to the 'message' column and create a new column for operation\n",
    "df['operation'] = df['message'].apply(extract_operation)\n",
    "\n",
    "# Save the updated DataFrame to a new CSV file\n",
    "df.to_csv('output_ukbb53639_feb_users.csv', index=False)\n",
    "\n",
    "print(\"Conversion complete. The updated file is saved as 'output_ukbb53639_feb_users.csv'.\")\n",
    "\n",
    "# Read the 'output_ukbb53639_2.csv' file\n",
    "output_df = pd.read_csv('output_ukbb53639_feb_users.csv')\n",
    "\n",
    "# Read the 'data_dictionary.csv' file\n",
    "data_dict_df = pd.read_csv('data_dictionary.csv')\n",
    "\n",
    "# Create a dictionary for quick lookup of usernames by UID\n",
    "uid_to_username = dict(zip(data_dict_df['userid'], data_dict_df['username']))\n",
    "\n",
    "# Function to map clientUid_numerals to usernames\n",
    "def map_uid_to_username(uid):\n",
    "    return uid_to_username.get(uid, None)\n",
    "\n",
    "# Apply the mapping function to the 'clientUid_numerals' column and create a new column\n",
    "output_df['userid'] = output_df['clientUid_numerals'].apply(map_uid_to_username)\n",
    "\n",
    "# Save the updated DataFrame to a new CSV file\n",
    "output_df.to_csv('output_ukbb53639_with_usernames_feb_users.csv', index=False)\n",
    "\n",
    "print(\"Conversion complete. The updated file is saved as 'output_ukbb53639_with_usernames_feb_users.csv'.\")\n"
   ]
  }
 ],
 "metadata": {
  "kernelspec": {
   "display_name": ".venv",
   "language": "python",
   "name": "python3"
  },
  "language_info": {
   "codemirror_mode": {
    "name": "ipython",
    "version": 3
   },
   "file_extension": ".py",
   "mimetype": "text/x-python",
   "name": "python",
   "nbconvert_exporter": "python",
   "pygments_lexer": "ipython3",
   "version": "3.12.8"
  }
 },
 "nbformat": 4,
 "nbformat_minor": 2
}
